{
 "cells": [
  {
   "cell_type": "code",
   "execution_count": 1,
   "metadata": {},
   "outputs": [],
   "source": [
    "import keyword"
   ]
  },
  {
   "cell_type": "code",
   "execution_count": 2,
   "metadata": {},
   "outputs": [
    {
     "data": {
      "text/plain": [
       "['False',\n",
       " 'None',\n",
       " 'True',\n",
       " '__peg_parser__',\n",
       " 'and',\n",
       " 'as',\n",
       " 'assert',\n",
       " 'async',\n",
       " 'await',\n",
       " 'break',\n",
       " 'class',\n",
       " 'continue',\n",
       " 'def',\n",
       " 'del',\n",
       " 'elif',\n",
       " 'else',\n",
       " 'except',\n",
       " 'finally',\n",
       " 'for',\n",
       " 'from',\n",
       " 'global',\n",
       " 'if',\n",
       " 'import',\n",
       " 'in',\n",
       " 'is',\n",
       " 'lambda',\n",
       " 'nonlocal',\n",
       " 'not',\n",
       " 'or',\n",
       " 'pass',\n",
       " 'raise',\n",
       " 'return',\n",
       " 'try',\n",
       " 'while',\n",
       " 'with',\n",
       " 'yield']"
      ]
     },
     "execution_count": 2,
     "metadata": {},
     "output_type": "execute_result"
    }
   ],
   "source": [
    "keyword.kwlist"
   ]
  },
  {
   "cell_type": "code",
   "execution_count": 3,
   "metadata": {},
   "outputs": [
    {
     "name": "stdout",
     "output_type": "stream",
     "text": [
      "20\n",
      "3.14\n"
     ]
    }
   ],
   "source": [
    "num1 = 20\n",
    "pi = 3.14 # 키워드는 변수명으로 사용 불가능\n",
    "print(num1)\n",
    "print(pi)\n"
   ]
  },
  {
   "cell_type": "code",
   "execution_count": 4,
   "metadata": {},
   "outputs": [
    {
     "name": "stdout",
     "output_type": "stream",
     "text": [
      "1 2 3 4 5 6 7 8 9 10 "
     ]
    }
   ],
   "source": [
    "for i in range(1,11): # range(이상, 미만)\n",
    "    print(i, end=' ')"
   ]
  },
  {
   "cell_type": "code",
   "execution_count": 5,
   "metadata": {},
   "outputs": [],
   "source": [
    "\"\"\"\n",
    "리스트(list) 자료구조 실습\n",
    "\"\"\"\n",
    "list1 = [1, 2, 3, 4, 5]\n",
    "list2 = ['a','b','c','d']\n",
    "fields = ['subject','content'] # 장고에서 많이 씀\n",
    "list3 = [10, 'a', 'abc', [10,20,30,40,50], ['a','b','c','d']]"
   ]
  },
  {
   "cell_type": "code",
   "execution_count": 6,
   "metadata": {},
   "outputs": [
    {
     "data": {
      "text/plain": [
       "[5, 2, 3, 4, 5]"
      ]
     },
     "execution_count": 6,
     "metadata": {},
     "output_type": "execute_result"
    }
   ],
   "source": [
    "list1[0] = 5\n",
    "list1"
   ]
  },
  {
   "cell_type": "code",
   "execution_count": 7,
   "metadata": {},
   "outputs": [],
   "source": [
    "def myfunc():\n",
    "    print('자료구조 실습 예~')"
   ]
  },
  {
   "cell_type": "code",
   "execution_count": 8,
   "metadata": {},
   "outputs": [
    {
     "name": "stdout",
     "output_type": "stream",
     "text": [
      "자료구조 실습 예~\n"
     ]
    }
   ],
   "source": [
    "list4= [10, 20, myfunc]\n",
    "list4[2]()"
   ]
  },
  {
   "cell_type": "code",
   "execution_count": 9,
   "metadata": {},
   "outputs": [],
   "source": [
    "list5 = [(2021,2000),(2022,3000)] # 리스트안에 튜플도 가능"
   ]
  },
  {
   "cell_type": "code",
   "execution_count": 10,
   "metadata": {},
   "outputs": [],
   "source": [
    "\"\"\"\n",
    "튜플 자료구조 실습\n",
    "\"\"\"\n",
    "\n",
    "tup1= (10,20,30,40,50)\n",
    "tup2= ('a','b','c','d','e')\n",
    "tup3= (10,'a','abc',[1,2,3,4,5],['a','b','c','d'],myfunc)"
   ]
  },
  {
   "cell_type": "code",
   "execution_count": 11,
   "metadata": {},
   "outputs": [
    {
     "name": "stdout",
     "output_type": "stream",
     "text": [
      "자료구조 실습 예~\n"
     ]
    }
   ],
   "source": [
    "tup3[5]()"
   ]
  },
  {
   "cell_type": "code",
   "execution_count": 12,
   "metadata": {},
   "outputs": [
    {
     "name": "stdout",
     "output_type": "stream",
     "text": [
      "제목\n"
     ]
    }
   ],
   "source": [
    "\"\"\"\n",
    "dictonary 자료구조 실습\n",
    "\"\"\"\n",
    "d1= {'subject':'제목','content':'내용'} #{키:값}\n",
    "print(d1['subject'])"
   ]
  },
  {
   "cell_type": "code",
   "execution_count": 13,
   "metadata": {},
   "outputs": [
    {
     "data": {
      "text/plain": [
       "{'a': 40, 'b': 20, 'c': 30}"
      ]
     },
     "execution_count": 13,
     "metadata": {},
     "output_type": "execute_result"
    }
   ],
   "source": [
    "d2 = {'a':10,'b':20,'c':30}\n",
    "d2['a'] = 40\n",
    "d2"
   ]
  },
  {
   "cell_type": "code",
   "execution_count": 14,
   "metadata": {},
   "outputs": [
    {
     "data": {
      "text/plain": [
       "{'a': 40, 'b': 20, 'c': 30, 'd': 50}"
      ]
     },
     "execution_count": 14,
     "metadata": {},
     "output_type": "execute_result"
    }
   ],
   "source": [
    "d2['d'] = 50\n",
    "d2"
   ]
  },
  {
   "cell_type": "code",
   "execution_count": 15,
   "metadata": {},
   "outputs": [
    {
     "ename": "NameError",
     "evalue": "name 'forms' is not defined",
     "output_type": "error",
     "traceback": [
      "\u001b[1;31m---------------------------------------------------------------------------\u001b[0m",
      "\u001b[1;31mNameError\u001b[0m                                 Traceback (most recent call last)",
      "\u001b[1;32m~\\AppData\\Local\\Temp\\ipykernel_12188\\783106535.py\u001b[0m in \u001b[0;36m<module>\u001b[1;34m\u001b[0m\n\u001b[0;32m      1\u001b[0m \u001b[1;31m# 장고에서 dictonary 활용\u001b[0m\u001b[1;33m\u001b[0m\u001b[1;33m\u001b[0m\u001b[0m\n\u001b[1;32m----> 2\u001b[1;33m \u001b[1;32mclass\u001b[0m \u001b[0mQuestionForm\u001b[0m\u001b[1;33m(\u001b[0m\u001b[0mforms\u001b[0m\u001b[1;33m.\u001b[0m\u001b[0mModelForm\u001b[0m\u001b[1;33m)\u001b[0m\u001b[1;33m:\u001b[0m\u001b[1;33m\u001b[0m\u001b[1;33m\u001b[0m\u001b[0m\n\u001b[0m\u001b[0;32m      3\u001b[0m     \u001b[1;32mclass\u001b[0m \u001b[0mMeta\u001b[0m\u001b[1;33m:\u001b[0m\u001b[1;33m\u001b[0m\u001b[1;33m\u001b[0m\u001b[0m\n\u001b[0;32m      4\u001b[0m         \u001b[0mmodel\u001b[0m \u001b[1;33m=\u001b[0m \u001b[0mQuestion\u001b[0m\u001b[1;33m\u001b[0m\u001b[1;33m\u001b[0m\u001b[0m\n\u001b[0;32m      5\u001b[0m         \u001b[0mfields\u001b[0m \u001b[1;33m=\u001b[0m \u001b[1;33m[\u001b[0m\u001b[1;34m'subject'\u001b[0m\u001b[1;33m,\u001b[0m\u001b[1;34m'content'\u001b[0m\u001b[1;33m]\u001b[0m\u001b[1;33m\u001b[0m\u001b[1;33m\u001b[0m\u001b[0m\n",
      "\u001b[1;31mNameError\u001b[0m: name 'forms' is not defined"
     ]
    }
   ],
   "source": [
    "# 장고에서 dictonary 활용\n",
    "class QuestionForm(forms.ModelForm):\n",
    "    class Meta:\n",
    "        model = Question\n",
    "        fields = ['subject','content']\n",
    "        widgets = {\n",
    "            'subject': forms.TextInput(attrs={'class':'form-control'}),\n",
    "            'content': forms.TextArea(attrs={'class':'form-control','rows':10})\n",
    "        }\n",
    "        "
   ]
  },
  {
   "cell_type": "code",
   "execution_count": 16,
   "metadata": {},
   "outputs": [],
   "source": [
    "#함수활용예제\n",
    "def add_number(n1, n2):\n",
    "    result = n1+n2\n",
    "    return result\n",
    "\n",
    "def add_txt(txt1, txt2):\n",
    "    print(txt1+' '+txt2)\n",
    "\n"
   ]
  },
  {
   "cell_type": "code",
   "execution_count": 17,
   "metadata": {},
   "outputs": [
    {
     "data": {
      "text/plain": [
       "30"
      ]
     },
     "execution_count": 17,
     "metadata": {},
     "output_type": "execute_result"
    }
   ],
   "source": [
    "answer = add_number(10,20)\n",
    "answer"
   ]
  },
  {
   "cell_type": "code",
   "execution_count": 18,
   "metadata": {},
   "outputs": [
    {
     "name": "stdout",
     "output_type": "stream",
     "text": [
      "인공지능 머신러닝, 딥러닝\n"
     ]
    }
   ],
   "source": [
    "text1 ='인공지능'\n",
    "text2 = '머신러닝, 딥러닝'\n",
    "add_txt(text1,text2)"
   ]
  },
  {
   "cell_type": "code",
   "execution_count": 25,
   "metadata": {},
   "outputs": [],
   "source": [
    "# 아래 리스트에 들어있는 문자열 중에서 길이가 5인 것들만 리스트형태로 출력되게 하라\n",
    "l1 = ['alpha','bravo','charlie','delta','echo','foxtrot','golf','hotel','india']"
   ]
  },
  {
   "cell_type": "code",
   "execution_count": 26,
   "metadata": {},
   "outputs": [
    {
     "name": "stdout",
     "output_type": "stream",
     "text": [
      "['alpha', 'bravo', 'delta', 'hotel', 'india']\n"
     ]
    }
   ],
   "source": [
    "re = []\n",
    "for i in range(len(l1)):\n",
    "    if len(l1[i]) == 5:\n",
    "        re.append(l1[i])\n",
    "\n",
    "print(re)"
   ]
  },
  {
   "cell_type": "code",
   "execution_count": 32,
   "metadata": {},
   "outputs": [
    {
     "name": "stdout",
     "output_type": "stream",
     "text": [
      "['alpha', 'bravo', 'delta', 'hotel', 'india']\n"
     ]
    }
   ],
   "source": [
    "re = [l1[i] for i in range(len(l1)) if len(l1[i])==5]\n",
    "print(re)"
   ]
  },
  {
   "cell_type": "markdown",
   "metadata": {},
   "source": [
    "#[연습문제] 자동 판매기 프로그램 작성\n",
    "#자동판매기 프로그램을 시뮬레이션하는 프로그램을 작성해보자.\n",
    "#자동판매기는 사용자로부터 투입된 돈과 상품의 값을 입력받는다.\n",
    "#상품값은 100원단위로 가정한다. 프로그램은 잔돈을 계산하여 출력한다. 자판기는 동전 500원, 100원 짜리만 가지고있다고 가정한다.\n",
    "\n",
    "#프로그램 실행결과 아래와 같이 입력을 받고 계산하여 결과 출력 \n",
    "\"\"\"\n",
    "투입된 금액: 5000\n",
    "상품값: 2600원\n",
    "거스름돈: 2400\n",
    "500원 동전의 개수: 4\n",
    "100원 동전의 개수: 4\n",
    "\"\"\""
   ]
  },
  {
   "cell_type": "code",
   "execution_count": 46,
   "metadata": {},
   "outputs": [
    {
     "name": "stdout",
     "output_type": "stream",
     "text": [
      "투입된 금액:  5000 원\n",
      "상품값: 2600 원\n",
      "거스름돈: 2400 원\n",
      "500원: 4 개\n",
      "100원: 4 개\n"
     ]
    }
   ],
   "source": [
    "money = int(input('투입된 금액: '))\n",
    "price = int(input('상품값: '))\n",
    "change = money - price\n",
    "five = change//500\n",
    "one = (change-(five*500))//100\n",
    "\n",
    "print('투입된 금액: ', money,'원')\n",
    "print('상품값:', price,'원')\n",
    "print('거스름돈:',change,'원')\n",
    "print('500원:',five,'개')\n",
    "print('100원:',one,'개')"
   ]
  },
  {
   "cell_type": "code",
   "execution_count": 49,
   "metadata": {},
   "outputs": [
    {
     "name": "stdout",
     "output_type": "stream",
     "text": [
      "<강남 대리점 2022년 1분기 판매실적>\n",
      "1월 판매실적: 15,076,200원\n",
      "2월 판매실적: 9,257,500원\n",
      "3월 판매실적: 32,467,500원\n"
     ]
    }
   ],
   "source": [
    "\"\"\"\n",
    "판매 실적 금액에 천단위마다 콤마(',')넣기 예제 \n",
    "\"\"\"\n",
    "print('<강남 대리점 2022년 1분기 판매실적>')\n",
    "sales = {'1월':15076200,'2월':9257500,'3월':32467500}\n",
    "key_values = sales.keys()\n",
    "\n",
    "#문제 해결 logic = 제어문을 활용해서 주어진 문제를 어떻게 해결 하는가\n",
    "\"\"\"\n",
    "1. 판매실적 금액 반대로 뒤집기\n",
    "2. i의 값이 3의 배수이거나 i값이 전체 길이와 같지 않으면 콤마\n",
    "3. 위의 값을 다시 반대로 뒤집기\n",
    "\"\"\"\n",
    "for keys in key_values:\n",
    "    num = str(sales[keys])\n",
    "    value = num[::-1] # 거꾸로 뒤집기\n",
    "    ret = ''\n",
    "    for i,c in enumerate(value):\n",
    "        i += 1\n",
    "        if i != len(value) and i %3 == 0:\n",
    "            ret += (c + ',')\n",
    "        else:\n",
    "            ret += c\n",
    "    ret = ret[::-1]\n",
    "    print('%s 판매실적: %s원' %(keys, ret))"
   ]
  },
  {
   "cell_type": "code",
   "execution_count": 53,
   "metadata": {},
   "outputs": [
    {
     "name": "stdout",
     "output_type": "stream",
     "text": [
      "<강남 대리점 2022년 1분기 판매실적>\n",
      "1월 판매실적: 15,076,200원\n",
      "2월 판매실적: 9,257,500원\n",
      "3월 판매실적: 32,467,500원\n"
     ]
    }
   ],
   "source": [
    "\"\"\"\n",
    "판매 실적 금액에 천단위마다 콤마(',')넣기 예제2 \n",
    "\"\"\"\n",
    "sales = {'1월':15076200,'2월':9257500,'3월':32467500}\n",
    "# items() = 딕셔너리 객체의 키:값 모두 추출하는 함수\n",
    "# dict_items([('1월', 15076200), ('2월', 9257500), ('3월', 32467500)])\n",
    "items = sales.items()\n",
    "\n",
    "#format(항목, '형식지정자')\n",
    "print('<강남 대리점 2022년 1분기 판매실적>')\n",
    "for key, value in items:\n",
    "    print(key +' 판매실적: ', format(value,',d')+'원')\n",
    "    #print(f'{key} 판매실적: {value:,d}원') #-> f-string 문자열 포맷팅"
   ]
  },
  {
   "cell_type": "code",
   "execution_count": 1,
   "metadata": {},
   "outputs": [
    {
     "data": {
      "text/plain": [
       "'\\n연습 문제 : 금액을 입력받아 각 화폐 단위로 출력하기\\n\\n프로그램 실행결과\\n======================\\n금액을 입력하세요: 56790\\n오만원권 1매\\n오천원권 1매\\n천원권 1매\\n오백원 1개\\n오십원 1개\\n10원 4개\\n'"
      ]
     },
     "execution_count": 1,
     "metadata": {},
     "output_type": "execute_result"
    }
   ],
   "source": [
    "\"\"\"\n",
    "연습 문제 : 금액을 입력받아 각 화폐 단위로 출력하기\n",
    "\n",
    "프로그램 실행결과\n",
    "======================\n",
    "금액을 입력하세요: 56790\n",
    "오만원권 1매\n",
    "만원권 2매\n",
    "오천원권 1매\n",
    "천원권 1매\n",
    "오백원 1개\n",
    "오십원 1개\n",
    "10원 4개\n",
    "\"\"\""
   ]
  },
  {
   "cell_type": "code",
   "execution_count": 12,
   "metadata": {},
   "outputs": [
    {
     "name": "stdout",
     "output_type": "stream",
     "text": [
      "총금액:  76790 원\n",
      "오만원권  : 1 매\n",
      "만원권 :  2 매\n",
      "오천원권  : 1 매\n",
      "천원 권 : 1 매\n",
      "오백원 : 1 개\n",
      "백원 :  2 개\n",
      "오십원 :  1 개\n",
      "십원 :  4 개\n"
     ]
    }
   ],
   "source": [
    "money = int(input('금액을 입력하세요:'))\n",
    "\n",
    "fmw = money//50000\n",
    "mw = (money-(fmw*50000))//10000\n",
    "ftw = (money-((fmw*50000)+(mw*10000)))//5000\n",
    "tw = (money-((fmw*50000)+(mw*10000)+(ftw*5000)))//1000\n",
    "fhw = (money-((fmw*50000)+(mw*10000)+(ftw*5000)+(tw*1000)))//500\n",
    "hw = (money-((fmw*50000)+(mw*10000)+(ftw*5000)+(tw*1000)+(fhw*500)))//100\n",
    "ftew = (money-((fmw*50000)+(mw*10000)+(ftw*5000)+(tw*1000)+(fhw*500)+(hw*100)))//50\n",
    "tew = (money-((fmw*50000)+(mw*10000)+(ftw*5000)+(tw*1000)+(fhw*500)+(hw*100)+(ftew *50)))//10\n",
    "\n",
    "print('총금액: ',money,'원')\n",
    "print('오만원권  :', fmw,'매')\n",
    "print('만원권 : ', mw, '매')\n",
    "print('오천원권  :',ftw,'매')\n",
    "print('천원 권 :',tw,'매')\n",
    "print('오백원 :',fhw,'개')\n",
    "print(\"백원 : \" , hw , '개')\n",
    "print(\"오십원 : \", ftew, '개')\n",
    "print(\"십원 : \", tew , '개') "
   ]
  },
  {
   "cell_type": "code",
   "execution_count": 19,
   "metadata": {},
   "outputs": [
    {
     "name": "stdout",
     "output_type": "stream",
     "text": [
      "오만원권 : 1매\n",
      "만원권 : 2매\n",
      "오천원권 : 1매\n",
      "천원권 : 1매\n",
      "오백원 : 1개\n",
      "백원 : 2개\n",
      "오십원 : 1개\n",
      "십원 : 4개\n"
     ]
    }
   ],
   "source": [
    "money = int(input('금액을 입력하세요. : '))\n",
    "cost = [50000, 10000, 5000, 1000, 500, 100, 50, 10]\n",
    "won = {50000:'오만원권',10000:'만원권',5000:'오천원권',1000:'천원권',500:'오백원', 100:'백원', 50:'오십원', 10:'십원'}\n",
    "\n",
    "for i in cost:\n",
    "    a, money = divmod(money,i) # divmod() <- cost를 i로 나눈 몫과 나머지가 각각 tmp와 cost로 들어간다.\n",
    "    if i >= 1000:\n",
    "      print(f'{won[i]} : {a}매')\n",
    "    else:\n",
    "      print(f'{won[i]} : {a}개')\n"
   ]
  },
  {
   "cell_type": "code",
   "execution_count": 1,
   "metadata": {},
   "outputs": [
    {
     "name": "stdout",
     "output_type": "stream",
     "text": [
      "오만원권: 1매\n",
      "만원권: 2매\n",
      "오천원권: 1매\n",
      "천원권: 1매\n",
      "오백원: 1개\n",
      "백원: 2개\n",
      "오십원: 1개\n",
      "십원: 4개\n"
     ]
    }
   ],
   "source": [
    "money = int(input('금액을 입력하세요. : '))\n",
    "\n",
    "list_money = [50000, 10000, 5000, 1000, 500, 100, 50, 10]\n",
    "list_str_money= ['오만원권','만원권','오천원권','천원권','오백원','백원','오십원','십원']\n",
    "\n",
    "for i in range(0,8):\n",
    "    portion, remainder = divmod(money, list_money[i])\n",
    "    money = remainder #[중요]\n",
    "\n",
    "    if portion > 0 and i < 4:\n",
    "        print(list_str_money[i] + ': ' + str(portion)+'매')\n",
    "    elif portion > 0 and i >= 4:\n",
    "        print(list_str_money[i]+ ': ' +str(portion)+'개')"
   ]
  }
 ],
 "metadata": {
  "kernelspec": {
   "display_name": "base",
   "language": "python",
   "name": "python3"
  },
  "language_info": {
   "codemirror_mode": {
    "name": "ipython",
    "version": 3
   },
   "file_extension": ".py",
   "mimetype": "text/x-python",
   "name": "python",
   "nbconvert_exporter": "python",
   "pygments_lexer": "ipython3",
   "version": "3.9.13"
  },
  "orig_nbformat": 4,
  "vscode": {
   "interpreter": {
    "hash": "ad2bdc8ecc057115af97d19610ffacc2b4e99fae6737bb82f5d7fb13d2f2c186"
   }
  }
 },
 "nbformat": 4,
 "nbformat_minor": 2
}
